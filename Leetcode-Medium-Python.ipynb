{
 "cells": [
  {
   "cell_type": "markdown",
   "source": [
    "#This is the examples of Leetcode with Python\n",
    "\n",
    "## 447. Number of Boomerangs   "
   ],
   "metadata": {
    "collapsed": false
   },
   "id": "4024fdd5da09009e"
  },
  {
   "cell_type": "markdown",
   "source": [
    "You are given n points in the plane that are all distinct, where points[i] = [xi, yi]. A boomerang is a tuple of points (i, j, k) such that the distance between i and j equals the distance between i and k (the order of the tuple matters).\n",
    "\n",
    "Return the number of boomerangs.\n",
    "\n",
    "Example 1:\n",
    "\n",
    "Input: points = [[0,0],[1,0],[2,0]]\n",
    "Output: 2\n",
    "Explanation: The two boomerangs are [[1,0],[0,0],[2,0]] and [[1,0],[2,0],[0,0]].\n",
    "\n",
    "Example 2:\n",
    "\n",
    "Input: points = [[1,1],[2,2],[3,3]]\n",
    "Output: 2\n",
    "\n",
    "Example 3:\n",
    "\n",
    "Input: points = [[1,1]]\n",
    "Output: 0\n",
    "\n",
    " \n",
    "\n",
    "Constraints:\n",
    "\n",
    "    n == points.length\n",
    "    1 <= n <= 500\n",
    "    points[i].length == 2\n",
    "    -104 <= xi, yi <= 104\n",
    "    All the points are unique.\n",
    "\n"
   ],
   "metadata": {
    "collapsed": false
   },
   "id": "c1130b218bbf8506"
  },
  {
   "cell_type": "code",
   "outputs": [
    {
     "name": "stdout",
     "output_type": "stream",
     "text": [
      "test distance: 4\n"
     ]
    }
   ],
   "source": [
    "\"\"\"\n",
    "Create a matrix to calculate the distance of a point to another points\n",
    "than compare between them to have the same distance\n",
    "Calculate potential of number then sum\n",
    "\"\"\"\n",
    "\n",
    "def distance2Point(point1, point2):\n",
    "    return (point1[0] - point2[0]) ** 2 + (point1[1] - point2[1]) ** 2\n",
    "\n",
    "print(\"test distance:\", distance2Point([0,2],[0, 0]))  "
   ],
   "metadata": {
    "collapsed": false,
    "ExecuteTime": {
     "end_time": "2024-04-24T20:15:38.916712Z",
     "start_time": "2024-04-24T20:15:38.909756Z"
    }
   },
   "id": "ed117105cf25c8a7",
   "execution_count": 85
  },
  {
   "cell_type": "code",
   "outputs": [
    {
     "name": "stdout",
     "output_type": "stream",
     "text": [
      "[0, 1, 1, 2, 2, 3]\n",
      "Same distance [2, 2]\n",
      "Same number: [2, 2]\n"
     ]
    }
   ],
   "source": [
    "\"\"\"\n",
    "return array of same number with input list\n",
    "\"\"\"\n",
    "def getSameNumber(arr):\n",
    "    print(arr)\n",
    "    arr.sort()\n",
    "    output = []\n",
    "    lastNumber = 0\n",
    "    count = 0\n",
    "    for i in range(len(arr)):\n",
    "        if lastNumber == arr[i]:\n",
    "            count += 1\n",
    "        else:\n",
    "            if count > 1:\n",
    "                output.append(count)\n",
    "            lastNumber = arr[i]\n",
    "            count = 1\n",
    "    # Incase of number is the same\n",
    "    if count > 1:\n",
    "        output.append(count)\n",
    "    \n",
    "    print(\"Same distance\", output)\n",
    "    return output\n",
    "print(\"Same number:\", getSameNumber([0,1,1,2,2,3]))"
   ],
   "metadata": {
    "collapsed": false,
    "ExecuteTime": {
     "end_time": "2024-04-24T20:59:34.104447Z",
     "start_time": "2024-04-24T20:59:34.099453Z"
    }
   },
   "id": "82727914eee0062a",
   "execution_count": 109
  },
  {
   "cell_type": "code",
   "outputs": [
    {
     "data": {
      "text/plain": "24"
     },
     "execution_count": 108,
     "metadata": {},
     "output_type": "execute_result"
    }
   ],
   "source": [
    "def calculationPotential(value):\n",
    "    result = 1\n",
    "    for i in range(1, value + 1):\n",
    "        result *= i\n",
    "    return result\n",
    "calculationPotential(4)"
   ],
   "metadata": {
    "collapsed": false,
    "ExecuteTime": {
     "end_time": "2024-04-24T20:57:21.607451Z",
     "start_time": "2024-04-24T20:57:21.602260Z"
    }
   },
   "id": "8f1c12f14b85717f",
   "execution_count": 108
  },
  {
   "cell_type": "code",
   "execution_count": 111,
   "id": "initial_id",
   "metadata": {
    "collapsed": true,
    "ExecuteTime": {
     "end_time": "2024-04-24T21:01:11.393621Z",
     "start_time": "2024-04-24T21:01:11.384493Z"
    }
   },
   "outputs": [
    {
     "name": "stdout",
     "output_type": "stream",
     "text": [
      "0\n",
      "[0, 2, 8]\n",
      "Same distance []\n",
      "[2, 0, 2]\n",
      "Same distance [2]\n",
      "[8, 2, 0]\n",
      "Same distance []\n",
      "array same distance [2]\n",
      "sumBoomerangs:  2\n"
     ]
    }
   ],
   "source": [
    "def numberOfBoomerangs(listPoints):\n",
    "    count = len(listPoints)\n",
    "    if count < 3:\n",
    "        return 0\n",
    "    \n",
    "    matrixDistance = [[i for i in range(count)] for j in range(count)]\n",
    "    sumSameDistance = []\n",
    "    sumBoomerangs = 0\n",
    "    for i in range(0, count):\n",
    "        numSameDistance = 0\n",
    "        arrDistance = []\n",
    "        for j in range(0, count):\n",
    "            matrixDistance[i][j] = distance2Point(listPoints[i], listPoints[j])\n",
    "            arrDistance.append(matrixDistance[i][j])\n",
    "        \n",
    "        arrSameDistance = getSameNumber(arrDistance)\n",
    "        if len(arrSameDistance) > 0:\n",
    "            for num in range(0, len(arrSameDistance)):\n",
    "                sumSameDistance.append(arrSameDistance[num])\n",
    "                sumBoomerangs += calculationPotential(arrSameDistance[num])\n",
    "        # for d in range(len(arrDistance)):\n",
    "            \n",
    "    print(\"array same distance\", sumSameDistance)\n",
    "    print(\"sumBoomerangs: \", sumBoomerangs)\n",
    "\n",
    "print(numberOfBoomerangs([[1,1]]))\n",
    "numberOfBoomerangs([[1,1],[2,2],[3,3]])"
   ]
  },
  {
   "cell_type": "code",
   "outputs": [
    {
     "name": "stdout",
     "output_type": "stream",
     "text": [
      "[0, 1, 4, 1, 4]\n",
      "Same distance [2, 2]\n",
      "[1, 0, 1, 4, 9]\n",
      "Same distance [2]\n",
      "[4, 1, 0, 9, 16]\n",
      "Same distance []\n",
      "[1, 4, 9, 0, 1]\n",
      "Same distance [2]\n",
      "[4, 9, 16, 1, 0]\n",
      "Same distance []\n",
      "array same distance [2, 2, 2, 2]\n",
      "sumBoomerangs:  8\n"
     ]
    },
    {
     "data": {
      "text/plain": "<Figure size 640x480 with 1 Axes>",
      "image/png": "[encoded data removed]"
     },
     "metadata": {},
     "output_type": "display_data"
    }
   ],
   "source": [
    "arrTest1 = [[0,0],[1,0],[2,0], [-1,0], [-2,0]]\n",
    "\n",
    "import matplotlib.pyplot as plt\n",
    "plt.scatter(*zip(*arrTest1))\n",
    "plt.axis('equal')\n",
    "numberOfBoomerangs([[0,0],[1,0],[2,0], [-1,0], [-2,0]])"
   ],
   "metadata": {
    "collapsed": false,
    "ExecuteTime": {
     "end_time": "2024-04-24T20:26:22.672211Z",
     "start_time": "2024-04-24T20:26:22.507550Z"
    }
   },
   "id": "d5f4d4efb278fb1d",
   "execution_count": 103
  },
  {
   "cell_type": "markdown",
   "source": [],
   "metadata": {
    "collapsed": false
   },
   "id": "4c9cdf07f25bd800"
  },
  {
   "cell_type": "code",
   "outputs": [
    {
     "name": "stdout",
     "output_type": "stream",
     "text": [
      "[0, 2, 4, 1, 1]\n",
      "Same distance [2]\n",
      "[2, 0, 2, 5, 1]\n",
      "Same distance [2]\n",
      "[4, 2, 0, 9, 1]\n",
      "Same distance []\n",
      "[1, 5, 9, 0, 4]\n",
      "Same distance []\n",
      "[1, 1, 1, 4, 0]\n",
      "Same distance [3]\n",
      "array same distance [2, 2, 3]\n",
      "sumBoomerangs:  10\n"
     ]
    },
    {
     "data": {
      "text/plain": "(-1.15, 2.15, -0.05, 1.05)"
     },
     "execution_count": 104,
     "metadata": {},
     "output_type": "execute_result"
    },
    {
     "data": {
      "text/plain": "<Figure size 640x480 with 1 Axes>",
      "image/png": "[encoded data removed]"
     },
     "metadata": {},
     "output_type": "display_data"
    }
   ],
   "source": [
    "arrTest2 = [[0,0],[1,1],[2,0], [-1,0], [1,0]]\n",
    "numberOfBoomerangs(arrTest2)\n",
    "plt.scatter(*zip(*arrTest2))\n",
    "plt.axis('equal')"
   ],
   "metadata": {
    "collapsed": false,
    "ExecuteTime": {
     "end_time": "2024-04-24T20:26:43.039990Z",
     "start_time": "2024-04-24T20:26:42.887543Z"
    }
   },
   "id": "1cb743c7cd02c3a7",
   "execution_count": 104
  },
  {
   "cell_type": "markdown",
   "source": [
    "\n",
    "\n"
   ],
   "metadata": {
    "collapsed": false
   },
   "id": "efb0a139c6cd0b7c"
  },
  {
   "cell_type": "code",
   "outputs": [
    {
     "name": "stdout",
     "output_type": "stream",
     "text": [
      "[0, 2, 4, 1, 1, 2]\n",
      "Same distance [2, 2]\n",
      "[2, 0, 2, 5, 1, 4]\n",
      "Same distance [2]\n",
      "[4, 2, 0, 9, 1, 2]\n",
      "Same distance [2]\n",
      "[1, 5, 9, 0, 4, 5]\n",
      "Same distance [2]\n",
      "[1, 1, 1, 4, 0, 1]\n",
      "Same distance [4]\n",
      "[2, 4, 2, 5, 1, 0]\n",
      "Same distance [2]\n",
      "array same distance [2, 2, 2, 2, 2, 4, 2]\n",
      "sumBoomerangs:  36\n"
     ]
    },
    {
     "data": {
      "text/plain": "(-1.15, 2.15, -1.1, 1.1)"
     },
     "execution_count": 105,
     "metadata": {},
     "output_type": "execute_result"
    },
    {
     "data": {
      "text/plain": "<Figure size 640x480 with 1 Axes>",
      "image/png": "[encoded data removed]"
     },
     "metadata": {},
     "output_type": "display_data"
    }
   ],
   "source": [
    "arrTest2 = [[0,0],[1,1],[2,0], [-1,0], [1,0], [1, -1]]\n",
    "numberOfBoomerangs(arrTest2)\n",
    "plt.scatter(*zip(*arrTest2))\n",
    "plt.axis('equal')"
   ],
   "metadata": {
    "collapsed": false,
    "ExecuteTime": {
     "end_time": "2024-04-24T20:54:04.012411Z",
     "start_time": "2024-04-24T20:54:03.851664Z"
    }
   },
   "id": "b7e5b73192883707",
   "execution_count": 105
  },
  {
   "cell_type": "code",
   "outputs": [],
   "source": [
    "You are given a doubly linked list, which contains nodes that have a next pointer, a previous pointer, and an additional child pointer. This child pointer may or may not point to a separate doubly linked list, also containing these special nodes. These child lists may have one or more children of their own, and so on, to produce a multilevel data structure as shown in the example below.\n",
    "\n",
    "Given the head of the first level of the list, flatten the list so that all the nodes appear in a single-level, doubly linked list. Let curr be a node with a child list. The nodes in the child list should appear after curr and before curr.next in the flattened list.\n",
    "\n",
    "Return the head of the flattened list. The nodes in the list must have all of their child pointers set to null.\n",
    "\n",
    "Example 1:\n",
    "\n",
    "Input: head = [1,2,3,4,5,6,null,null,null,7,8,9,10,null,null,11,12]\n",
    "Output: [1,2,3,7,8,11,12,9,10,4,5,6]\n",
    "Explanation: The multilevel linked list in the input is shown.\n",
    "After flattening the multilevel linked list it becomes:\n",
    "\n",
    "Example 2:\n",
    "\n",
    "Input: head = [1,2,null,3]\n",
    "Output: [1,3,2]\n",
    "Explanation: The multilevel linked list in the input is shown.\n",
    "After flattening the multilevel linked list it becomes:\n",
    "\n",
    "Example 3:\n",
    "\n",
    "Input: head = []\n",
    "Output: []\n",
    "Explanation: There could be empty list in the input.\n",
    "\n",
    "Constraints:\n",
    "\n",
    "    The number of Nodes will not exceed 1000.\n",
    "    1 <= Node.val <= 105\n",
    "\n",
    "How the multilevel linked list is represented in test cases:\n",
    "\n",
    "We use the multilevel linked list from Example 1 above:\n",
    "\n",
    " 1---2---3---4---5---6--NULL\n",
    "         |\n",
    "         7---8---9---10--NULL\n",
    "             |\n",
    "             11--12--NULL\n",
    "\n",
    "The serialization of each level is as follows:\n",
    "\n",
    "[1,2,3,4,5,6,null]\n",
    "[7,8,9,10,null]\n",
    "[11,12,null]\n",
    "\n",
    "To serialize all levels together, we will add nulls in each level to signify no node connects to the upper node of the previous level. The serialization becomes:\n",
    "\n",
    "[1,    2,    3, 4, 5, 6, null]\n",
    "             |\n",
    "[null, null, 7,    8, 9, 10, null]\n",
    "                   |\n",
    "[            null, 11, 12, null]\n",
    "\n",
    "Merging the serialization of each level and removing trailing nulls we obtain:\n",
    "\n",
    "[1,2,3,4,5,6,null,null,null,7,8,9,10,null,null,11,12]"
   ],
   "metadata": {
    "collapsed": false
   },
   "id": "57f99d63a81d6076"
  },
  {
   "cell_type": "markdown",
   "source": [
    "To resolve this exercise we need to create a linked list class in Python. \n",
    "Firstly, we create a Node class then using Node to create a linked list. A node is \n",
    " "
   ],
   "metadata": {
    "collapsed": false
   },
   "id": "7960a10f6c00269e"
  },
  {
   "cell_type": "code",
   "outputs": [],
   "source": [
    "class Node:\n",
    "    def __init__(self, data):\n",
    "        self.data = data\n",
    "        self.next = None"
   ],
   "metadata": {
    "collapsed": false,
    "ExecuteTime": {
     "end_time": "2024-05-03T07:16:19.974454Z",
     "start_time": "2024-05-03T07:16:19.966699Z"
    }
   },
   "id": "8f99f3039e71955e",
   "execution_count": 1
  },
  {
   "cell_type": "code",
   "outputs": [],
   "source": [
    "class LinkedList:\n",
    "    def __init__(self):\n",
    "        self.head = None\n",
    "\n",
    "    def insertAtBeginning(self, value):\n",
    "        new_node = Node(value)\n",
    "        new_node.next = self.head\n",
    "        self.head = new_node\n",
    "        \n",
    "    def add(self, value):\n",
    "        new_node = Node(value)\n",
    "        if self.head is None:\n",
    "            self.head = new_node\n",
    "        else:\n",
    "            current = self.head\n",
    "            while current.next:\n",
    "                current = current.next\n",
    "            current.next = new_node\n",
    "            \n",
    "    def addListValue(self, values):\n",
    "        for value in values:\n",
    "            self.add(value)\n",
    "    \n",
    "    def printLinkedList(self):\n",
    "        values = []\n",
    "        current = self.head\n",
    "        while current:\n",
    "            values.append(str(current.data))\n",
    "            temp = current.next\n",
    "        return \" -> \".join(values)"
   ],
   "metadata": {
    "collapsed": false,
    "ExecuteTime": {
     "end_time": "2024-05-03T07:45:18.731802Z",
     "start_time": "2024-05-03T07:45:18.725421Z"
    }
   },
   "id": "3e5d46efddee0f72",
   "execution_count": 29
  },
  {
   "cell_type": "markdown",
   "source": [
    "1---2---3---4---5---6--NULL"
   ],
   "metadata": {
    "collapsed": false
   },
   "id": "31e74c37b0b58581"
  },
  {
   "cell_type": "code",
   "outputs": [
    {
     "ename": "KeyboardInterrupt",
     "evalue": "",
     "output_type": "error",
     "traceback": [
      "\u001B[0;31m---------------------------------------------------------------------------\u001B[0m",
      "\u001B[0;31mKeyboardInterrupt\u001B[0m                         Traceback (most recent call last)",
      "Cell \u001B[0;32mIn[45], line 7\u001B[0m\n\u001B[1;32m      5\u001B[0m linked_list\u001B[38;5;241m.\u001B[39madd(\u001B[38;5;28;01mNone\u001B[39;00m)\n\u001B[1;32m      6\u001B[0m linked_list\u001B[38;5;241m.\u001B[39madd(\u001B[38;5;241m3\u001B[39m)\n\u001B[0;32m----> 7\u001B[0m \u001B[43mlinked_list\u001B[49m\u001B[38;5;241;43m.\u001B[39;49m\u001B[43mprintLinkedList\u001B[49m\u001B[43m(\u001B[49m\u001B[43m)\u001B[49m\n",
      "Cell \u001B[0;32mIn[29], line 28\u001B[0m, in \u001B[0;36mLinkedList.printLinkedList\u001B[0;34m(self)\u001B[0m\n\u001B[1;32m     26\u001B[0m current \u001B[38;5;241m=\u001B[39m \u001B[38;5;28mself\u001B[39m\u001B[38;5;241m.\u001B[39mhead\n\u001B[1;32m     27\u001B[0m \u001B[38;5;28;01mwhile\u001B[39;00m current:\n\u001B[0;32m---> 28\u001B[0m     \u001B[43mvalues\u001B[49m\u001B[38;5;241;43m.\u001B[39;49m\u001B[43mappend\u001B[49m(\u001B[38;5;28mstr\u001B[39m(current\u001B[38;5;241m.\u001B[39mdata))\n\u001B[1;32m     29\u001B[0m     temp \u001B[38;5;241m=\u001B[39m current\u001B[38;5;241m.\u001B[39mnext\n\u001B[1;32m     30\u001B[0m \u001B[38;5;28;01mreturn\u001B[39;00m \u001B[38;5;124m\"\u001B[39m\u001B[38;5;124m -> \u001B[39m\u001B[38;5;124m\"\u001B[39m\u001B[38;5;241m.\u001B[39mjoin(values)\n",
      "\u001B[0;31mKeyboardInterrupt\u001B[0m: "
     ]
    }
   ],
   "source": [
    "linked_list = LinkedList()\n",
    "linked_list.add(1)\n",
    "linked_list.add(2)\n",
    "linked_list.add(None)\n",
    "linked_list.add(None)\n",
    "linked_list.add(3)\n",
    "linked_list.printLinkedList()\n"
   ],
   "metadata": {
    "collapsed": false,
    "ExecuteTime": {
     "end_time": "2024-05-03T15:12:14.482729Z",
     "start_time": "2024-05-03T15:12:10.398031Z"
    }
   },
   "id": "b459b46f55e13bc2",
   "execution_count": 45
  },
  {
   "cell_type": "code",
   "outputs": [],
   "source": [
    "linked_list2 = LinkedList()\n",
    "# linked_list2.addListValue(range(3))\n"
   ],
   "metadata": {
    "collapsed": false,
    "ExecuteTime": {
     "end_time": "2024-05-03T15:09:28.108843Z",
     "start_time": "2024-05-03T15:09:28.105607Z"
    }
   },
   "id": "606fba448ca93949",
   "execution_count": 38
  },
  {
   "cell_type": "code",
   "outputs": [
    {
     "ename": "KeyboardInterrupt",
     "evalue": "",
     "output_type": "error",
     "traceback": [
      "\u001B[0;31m---------------------------------------------------------------------------\u001B[0m",
      "\u001B[0;31mKeyboardInterrupt\u001B[0m                         Traceback (most recent call last)",
      "Cell \u001B[0;32mIn[43], line 3\u001B[0m\n\u001B[1;32m      1\u001B[0m \u001B[38;5;28;01mfor\u001B[39;00m value \u001B[38;5;129;01min\u001B[39;00m [\u001B[38;5;241m5\u001B[39m, \u001B[38;5;241m6\u001B[39m, \u001B[38;5;241m7\u001B[39m]:\n\u001B[1;32m      2\u001B[0m     linked_list2\u001B[38;5;241m.\u001B[39madd(value)\n\u001B[0;32m----> 3\u001B[0m \u001B[43mlinked_list2\u001B[49m\u001B[38;5;241;43m.\u001B[39;49m\u001B[43mprintLinkedList\u001B[49m\u001B[43m(\u001B[49m\u001B[43m)\u001B[49m\n",
      "Cell \u001B[0;32mIn[29], line 28\u001B[0m, in \u001B[0;36mLinkedList.printLinkedList\u001B[0;34m(self)\u001B[0m\n\u001B[1;32m     26\u001B[0m current \u001B[38;5;241m=\u001B[39m \u001B[38;5;28mself\u001B[39m\u001B[38;5;241m.\u001B[39mhead\n\u001B[1;32m     27\u001B[0m \u001B[38;5;28;01mwhile\u001B[39;00m current:\n\u001B[0;32m---> 28\u001B[0m     \u001B[43mvalues\u001B[49m\u001B[38;5;241;43m.\u001B[39;49m\u001B[43mappend\u001B[49m\u001B[43m(\u001B[49m\u001B[38;5;28;43mstr\u001B[39;49m\u001B[43m(\u001B[49m\u001B[43mcurrent\u001B[49m\u001B[38;5;241;43m.\u001B[39;49m\u001B[43mdata\u001B[49m\u001B[43m)\u001B[49m\u001B[43m)\u001B[49m\n\u001B[1;32m     29\u001B[0m     temp \u001B[38;5;241m=\u001B[39m current\u001B[38;5;241m.\u001B[39mnext\n\u001B[1;32m     30\u001B[0m \u001B[38;5;28;01mreturn\u001B[39;00m \u001B[38;5;124m\"\u001B[39m\u001B[38;5;124m -> \u001B[39m\u001B[38;5;124m\"\u001B[39m\u001B[38;5;241m.\u001B[39mjoin(values)\n",
      "\u001B[0;31mKeyboardInterrupt\u001B[0m: "
     ]
    }
   ],
   "source": [
    "for value in [5, 6, 7]:\n",
    "    linked_list2.add(value)\n",
    "linked_list2.printLinkedList()"
   ],
   "metadata": {
    "collapsed": false,
    "ExecuteTime": {
     "end_time": "2024-05-03T15:11:31.010595Z",
     "start_time": "2024-05-03T15:11:26.890363Z"
    }
   },
   "id": "6cf8175ba0af71f3",
   "execution_count": 43
  },
  {
   "cell_type": "code",
   "outputs": [
    {
     "ename": "KeyboardInterrupt",
     "evalue": "",
     "output_type": "error",
     "traceback": [
      "\u001B[0;31m---------------------------------------------------------------------------\u001B[0m",
      "\u001B[0;31mKeyboardInterrupt\u001B[0m                         Traceback (most recent call last)",
      "Cell \u001B[0;32mIn[47], line 4\u001B[0m\n\u001B[1;32m      2\u001B[0m linked_list3\u001B[38;5;241m.\u001B[39minsertAtBeginning(\u001B[38;5;241m1\u001B[39m)\n\u001B[1;32m      3\u001B[0m linked_list3\u001B[38;5;241m.\u001B[39minsertAtBeginning(\u001B[38;5;241m2\u001B[39m)\n\u001B[0;32m----> 4\u001B[0m \u001B[43mlinked_list3\u001B[49m\u001B[38;5;241;43m.\u001B[39;49m\u001B[43mprintLinkedList\u001B[49m\u001B[43m(\u001B[49m\u001B[43m)\u001B[49m\n",
      "Cell \u001B[0;32mIn[29], line 29\u001B[0m, in \u001B[0;36mLinkedList.printLinkedList\u001B[0;34m(self)\u001B[0m\n\u001B[1;32m     27\u001B[0m \u001B[38;5;28;01mwhile\u001B[39;00m current:\n\u001B[1;32m     28\u001B[0m     values\u001B[38;5;241m.\u001B[39mappend(\u001B[38;5;28mstr\u001B[39m(current\u001B[38;5;241m.\u001B[39mdata))\n\u001B[0;32m---> 29\u001B[0m     temp \u001B[38;5;241m=\u001B[39m \u001B[43mcurrent\u001B[49m\u001B[38;5;241;43m.\u001B[39;49m\u001B[43mnext\u001B[49m\n\u001B[1;32m     30\u001B[0m \u001B[38;5;28;01mreturn\u001B[39;00m \u001B[38;5;124m\"\u001B[39m\u001B[38;5;124m -> \u001B[39m\u001B[38;5;124m\"\u001B[39m\u001B[38;5;241m.\u001B[39mjoin(values)\n",
      "\u001B[0;31mKeyboardInterrupt\u001B[0m: "
     ]
    }
   ],
   "source": [
    "linked_list3 = LinkedList()\n",
    "linked_list3.insertAtBeginning(1)\n",
    "linked_list3.insertAtBeginning(2)\n",
    "linked_list3.printLinkedList()"
   ],
   "metadata": {
    "collapsed": false,
    "ExecuteTime": {
     "end_time": "2024-05-03T15:13:01.001835Z",
     "start_time": "2024-05-03T15:12:57.174617Z"
    }
   },
   "id": "235abe2a2aaa33e0",
   "execution_count": 47
  },
  {
   "cell_type": "code",
   "outputs": [
    {
     "name": "stdout",
     "output_type": "stream",
     "text": [
      "1 -> 2 -> 3 -> 7 -> 8 -> 11 -> 12 -> 9 -> 10 -> None\n"
     ]
    }
   ],
   "source": [
    "class Node:\n",
    "    def __init__(self, val=0, prev=None, next=None, child=None):\n",
    "        self.val = val\n",
    "        self.prev = prev\n",
    "        self.next = next\n",
    "        self.child = child\n",
    "\n",
    "def flatten(head: Node) -> Node:\n",
    "    if not head:\n",
    "        return head\n",
    "\n",
    "    pseudo_head = Node(0)\n",
    "    pseudo_head.next = head\n",
    "    prev = pseudo_head\n",
    "\n",
    "    stack = []\n",
    "    stack.append(head)\n",
    "\n",
    "    while stack:\n",
    "        curr = stack.pop()\n",
    "\n",
    "        # Maintain the double linked list structure\n",
    "        prev.next = curr\n",
    "        curr.prev = prev\n",
    "\n",
    "        # Push next node to stack first, so we pop it last after the child\n",
    "        if curr.next:\n",
    "            stack.append(curr.next)\n",
    "        \n",
    "        # Push child node to stack to ensure it's processed before the next node\n",
    "        if curr.child:\n",
    "            stack.append(curr.child)\n",
    "            curr.child = None  # Don't forget to unlink child pointer\n",
    "\n",
    "        # Move the prev pointer for next iteration\n",
    "        prev = curr\n",
    "\n",
    "    # Detach pseudo head from the real head\n",
    "    pseudo_head.next.prev = None\n",
    "    return pseudo_head.next\n",
    "\n",
    "def print_list(head):\n",
    "    while head:\n",
    "        print(head.val, end=\" -> \")\n",
    "        head = head.next\n",
    "    print(\"None\")\n",
    "\n",
    "# Example Usage\n",
    "head = Node(1)\n",
    "head.next = Node(2)\n",
    "head.next.prev = head\n",
    "head.next.next = Node(3)\n",
    "head.next.next.prev = head.next\n",
    "head.next.next.child = Node(7)\n",
    "head.next.next.child.next = Node(8)\n",
    "head.next.next.child.next.prev = head.next.next.child\n",
    "head.next.next.child.next.child = Node(11)\n",
    "head.next.next.child.next.child.next = Node(12)\n",
    "head.next.next.child.next.child.next.prev = head.next.next.child.next.child\n",
    "head.next.next.child.next.next = Node(9)\n",
    "head.next.next.child.next.next.prev = head.next.next.child.next\n",
    "head.next.next.child.next.next.next = Node(10)\n",
    "head.next.next.child.next.next.next.prev = head.next.next.child.next.next\n",
    "\n",
    "flattened_head = flatten(head)\n",
    "print_list(flattened_head)\n"
   ],
   "metadata": {
    "collapsed": false,
    "ExecuteTime": {
     "end_time": "2024-05-03T15:13:18.554374Z",
     "start_time": "2024-05-03T15:13:18.543346Z"
    }
   },
   "id": "f5b8a33135a065a7",
   "execution_count": 48
  },
  {
   "cell_type": "code",
   "outputs": [],
   "source": [],
   "metadata": {
    "collapsed": false
   },
   "id": "f895df44eeb3db3"
  }
 ],
 "metadata": {
  "kernelspec": {
   "display_name": "Python 3",
   "language": "python",
   "name": "python3"
  },
  "language_info": {
   "codemirror_mode": {
    "name": "ipython",
    "version": 2
   },
   "file_extension": ".py",
   "mimetype": "text/x-python",
   "name": "python",
   "nbconvert_exporter": "python",
   "pygments_lexer": "ipython2",
   "version": "2.7.6"
  }
 },
 "nbformat": 4,
 "nbformat_minor": 5
}
