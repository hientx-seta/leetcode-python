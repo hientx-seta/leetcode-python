{
 "cells": [
  {
   "cell_type": "markdown",
   "source": [
    "#This is the examples of Leetcode with Python\n",
    "\n",
    "## 447. Number of Boomerangs   "
   ],
   "metadata": {
    "collapsed": false
   },
   "id": "4024fdd5da09009e"
  },
  {
   "cell_type": "markdown",
   "source": [
    "You are given n points in the plane that are all distinct, where points[i] = [xi, yi]. A boomerang is a tuple of points (i, j, k) such that the distance between i and j equals the distance between i and k (the order of the tuple matters).\n",
    "\n",
    "Return the number of boomerangs.\n",
    "\n",
    "Example 1:\n",
    "\n",
    "Input: points = [[0,0],[1,0],[2,0]]\n",
    "Output: 2\n",
    "Explanation: The two boomerangs are [[1,0],[0,0],[2,0]] and [[1,0],[2,0],[0,0]].\n",
    "\n",
    "Example 2:\n",
    "\n",
    "Input: points = [[1,1],[2,2],[3,3]]\n",
    "Output: 2\n",
    "\n",
    "Example 3:\n",
    "\n",
    "Input: points = [[1,1]]\n",
    "Output: 0\n",
    "\n",
    " \n",
    "\n",
    "Constraints:\n",
    "\n",
    "    n == points.length\n",
    "    1 <= n <= 500\n",
    "    points[i].length == 2\n",
    "    -104 <= xi, yi <= 104\n",
    "    All the points are unique.\n",
    "\n"
   ],
   "metadata": {
    "collapsed": false
   },
   "id": "c1130b218bbf8506"
  },
  {
   "cell_type": "code",
   "outputs": [
    {
     "name": "stdout",
     "output_type": "stream",
     "text": [
      "test distance: 4\n"
     ]
    }
   ],
   "source": [
    "\"\"\"\n",
    "Create a matrix to calculate the distance of a point to another points\n",
    "than compare between them to have the same distance\n",
    "Calculate potential of number then sum\n",
    "\"\"\"\n",
    "\n",
    "def distance2Point(point1, point2):\n",
    "    return (point1[0] - point2[0]) ** 2 + (point1[1] - point2[1]) ** 2\n",
    "\n",
    "print(\"test distance:\", distance2Point([0,2],[0, 0]))  "
   ],
   "metadata": {
    "collapsed": false,
    "ExecuteTime": {
     "end_time": "2024-04-24T20:15:38.916712Z",
     "start_time": "2024-04-24T20:15:38.909756Z"
    }
   },
   "id": "ed117105cf25c8a7",
   "execution_count": 85
  },
  {
   "cell_type": "code",
   "outputs": [],
   "source": [
    "\"\"\"\n",
    "return array of same number with input list\n",
    "\"\"\"\n",
    "def getSameNumber(arr):\n",
    "    print(arr)\n",
    "    arr.sort()\n",
    "    output = []\n",
    "    lastNumber = 0\n",
    "    count = 0\n",
    "    for i in range(len(arr)):\n",
    "        if lastNumber == arr[i]:\n",
    "            count += 1\n",
    "        else:\n",
    "            if count > 1:\n",
    "                output.append(count)\n",
    "            lastNumber = arr[i]\n",
    "            count = 1\n",
    "    # Incase of number is the same\n",
    "    if count > 1:\n",
    "        output.append(count)\n",
    "    \n",
    "    print(\"Same distance\", output)\n",
    "    return output\n",
    "#print(\"Same number:\", getSameNumber([0,1,1,2,2,3]))"
   ],
   "metadata": {
    "collapsed": false,
    "ExecuteTime": {
     "end_time": "2024-04-24T20:26:19.020054Z",
     "start_time": "2024-04-24T20:26:19.015271Z"
    }
   },
   "id": "82727914eee0062a",
   "execution_count": 101
  },
  {
   "cell_type": "code",
   "outputs": [
    {
     "data": {
      "text/plain": "6"
     },
     "execution_count": 54,
     "metadata": {},
     "output_type": "execute_result"
    }
   ],
   "source": [
    "def calculationPotential(value):\n",
    "    result = 1\n",
    "    for i in range(1, value + 1):\n",
    "        result *= i\n",
    "    return result\n",
    "calculationPotential(3)"
   ],
   "metadata": {
    "collapsed": false,
    "ExecuteTime": {
     "end_time": "2024-04-24T19:48:31.188836Z",
     "start_time": "2024-04-24T19:48:31.184011Z"
    }
   },
   "id": "8f1c12f14b85717f",
   "execution_count": 54
  },
  {
   "cell_type": "code",
   "execution_count": 102,
   "id": "initial_id",
   "metadata": {
    "collapsed": true,
    "ExecuteTime": {
     "end_time": "2024-04-24T20:26:21.729930Z",
     "start_time": "2024-04-24T20:26:21.720869Z"
    }
   },
   "outputs": [
    {
     "name": "stdout",
     "output_type": "stream",
     "text": [
      "[0, 2, 8]\n",
      "Same distance []\n",
      "[2, 0, 2]\n",
      "Same distance [2]\n",
      "[8, 2, 0]\n",
      "Same distance []\n",
      "array same distance [2]\n",
      "sumBoomerangs:  2\n"
     ]
    }
   ],
   "source": [
    "def numberOfBoomerangs(listPoints):\n",
    "    count = len(listPoints)\n",
    "    if count < 3:\n",
    "        return 0\n",
    "    \n",
    "    matrixDistance = [[i for i in range(count)] for j in range(count)]\n",
    "    sumSameDistance = []\n",
    "    sumBoomerangs = 0\n",
    "    for i in range(0, count):\n",
    "        numSameDistance = 0\n",
    "        arrDistance = []\n",
    "        for j in range(0, count):\n",
    "            matrixDistance[i][j] = distance2Point(listPoints[i], listPoints[j])\n",
    "            arrDistance.append(matrixDistance[i][j])\n",
    "        \n",
    "        arrSameDistance = getSameNumber(arrDistance)\n",
    "        if len(arrSameDistance) > 0:\n",
    "            for num in range(0, len(arrSameDistance)):\n",
    "                sumSameDistance.append(arrSameDistance[num])\n",
    "                sumBoomerangs += calculationPotential(arrSameDistance[num])\n",
    "        # for d in range(len(arrDistance)):\n",
    "            \n",
    "    print(\"array same distance\", sumSameDistance)\n",
    "    print(\"sumBoomerangs: \", sumBoomerangs)\n",
    "\n",
    "numberOfBoomerangs([[1,1]])\n",
    "numberOfBoomerangs([[1,1],[2,2],[3,3]])"
   ]
  },
  {
   "cell_type": "code",
   "outputs": [
    {
     "name": "stdout",
     "output_type": "stream",
     "text": [
      "[0, 1, 4, 1, 4]\n",
      "Same distance [2, 2]\n",
      "[1, 0, 1, 4, 9]\n",
      "Same distance [2]\n",
      "[4, 1, 0, 9, 16]\n",
      "Same distance []\n",
      "[1, 4, 9, 0, 1]\n",
      "Same distance [2]\n",
      "[4, 9, 16, 1, 0]\n",
      "Same distance []\n",
      "array same distance [2, 2, 2, 2]\n",
      "sumBoomerangs:  8\n"
     ]
    },
    {
     "data": {
      "text/plain": "<Figure size 640x480 with 1 Axes>",
      "image/png": "[encoded data removed]"
     },
     "metadata": {},
     "output_type": "display_data"
    }
   ],
   "source": [
    "arrTest1 = [[0,0],[1,0],[2,0], [-1,0], [-2,0]]\n",
    "\n",
    "import matplotlib.pyplot as plt\n",
    "plt.scatter(*zip(*arrTest1))\n",
    "plt.axis('equal')\n",
    "numberOfBoomerangs([[0,0],[1,0],[2,0], [-1,0], [-2,0]])"
   ],
   "metadata": {
    "collapsed": false,
    "ExecuteTime": {
     "end_time": "2024-04-24T20:26:22.672211Z",
     "start_time": "2024-04-24T20:26:22.507550Z"
    }
   },
   "id": "d5f4d4efb278fb1d",
   "execution_count": 103
  },
  {
   "cell_type": "markdown",
   "source": [],
   "metadata": {
    "collapsed": false
   },
   "id": "4c9cdf07f25bd800"
  },
  {
   "cell_type": "code",
   "outputs": [
    {
     "name": "stdout",
     "output_type": "stream",
     "text": [
      "[0, 2, 4, 1, 1]\n",
      "Same distance [2]\n",
      "[2, 0, 2, 5, 1]\n",
      "Same distance [2]\n",
      "[4, 2, 0, 9, 1]\n",
      "Same distance []\n",
      "[1, 5, 9, 0, 4]\n",
      "Same distance []\n",
      "[1, 1, 1, 4, 0]\n",
      "Same distance [3]\n",
      "array same distance [2, 2, 3]\n",
      "sumBoomerangs:  10\n"
     ]
    },
    {
     "data": {
      "text/plain": "(-1.15, 2.15, -0.05, 1.05)"
     },
     "execution_count": 104,
     "metadata": {},
     "output_type": "execute_result"
    },
    {
     "data": {
      "text/plain": "<Figure size 640x480 with 1 Axes>",
      "image/png": "[encoded data removed]"
     },
     "metadata": {},
     "output_type": "display_data"
    }
   ],
   "source": [
    "arrTest2 = [[0,0],[1,1],[2,0], [-1,0], [1,0]]\n",
    "numberOfBoomerangs(arrTest2)\n",
    "plt.scatter(*zip(*arrTest2))\n",
    "plt.axis('equal')"
   ],
   "metadata": {
    "collapsed": false,
    "ExecuteTime": {
     "end_time": "2024-04-24T20:26:43.039990Z",
     "start_time": "2024-04-24T20:26:42.887543Z"
    }
   },
   "id": "1cb743c7cd02c3a7",
   "execution_count": 104
  },
  {
   "cell_type": "markdown",
   "source": [
    "\n",
    "\n"
   ],
   "metadata": {
    "collapsed": false
   },
   "id": "efb0a139c6cd0b7c"
  }
 ],
 "metadata": {
  "kernelspec": {
   "display_name": "Python 3",
   "language": "python",
   "name": "python3"
  },
  "language_info": {
   "codemirror_mode": {
    "name": "ipython",
    "version": 2
   },
   "file_extension": ".py",
   "mimetype": "text/x-python",
   "name": "python",
   "nbconvert_exporter": "python",
   "pygments_lexer": "ipython2",
   "version": "2.7.6"
  }
 },
 "nbformat": 4,
 "nbformat_minor": 5
}
