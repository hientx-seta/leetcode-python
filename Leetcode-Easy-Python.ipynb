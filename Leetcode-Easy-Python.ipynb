{
 "cells": [
  {
   "cell_type": "markdown",
   "source": [
    "#This is the examples of Leetcode with Python\n",
    "\n",
    "## 1. Count Capitalize characters in a string        "
   ],
   "metadata": {
    "collapsed": false
   },
   "id": "4024fdd5da09009e"
  },
  {
   "cell_type": "code",
   "execution_count": 1,
   "id": "initial_id",
   "metadata": {
    "collapsed": true,
    "ExecuteTime": {
     "end_time": "2024-04-24T07:53:40.858143Z",
     "start_time": "2024-04-24T07:53:40.848148Z"
    }
   },
   "outputs": [
    {
     "name": "stdout",
     "output_type": "stream",
     "text": [
      "Capitalize characters count: $2\n",
      "Capitalize characters count: $2\n"
     ]
    }
   ],
   "source": [
    "\n",
    "def detectCapitalUse(word):\n",
    "    \"\"\"\n",
    "    :type word: str\n",
    "    :rtype: bool\n",
    "    \"\"\"\n",
    "    count = 0\n",
    "    for c in word:\n",
    "        if c.isupper():\n",
    "            count += 1\n",
    "    \n",
    "    print(f\"Capitalize characters count: {count}\")\n",
    "                \n",
    "detectCapitalUse(\"Test Character\")\n",
    "detectCapitalUse(\"FlaG\")\n"
   ]
  },
  {
   "cell_type": "markdown",
   "source": [
    "## 520. Detect Capital"
   ],
   "metadata": {
    "collapsed": false
   },
   "id": "e5830f66c14dbff4"
  },
  {
   "cell_type": "markdown",
   "source": [
    "We define the usage of capitals in a word to be right when one of the following cases holds:\n",
    "\n",
    "    All letters in this word are capitals, like \"USA\".\n",
    "    All letters in this word are not capitals, like \"leetcode\".\n",
    "    Only the first letter in this word is capital, like \"Google\".\n",
    "\n",
    "Given a string word, return true if the usage of capitals in it is right.\n",
    "\n",
    " \n",
    "\n",
    "Example 1:\n",
    "\n",
    "Input: word = \"USA\"\n",
    "Output: true\n",
    "\n",
    "Example 2:\n",
    "\n",
    "Input: word = \"FlaG\"\n",
    "Output: false\n"
   ],
   "metadata": {
    "collapsed": false
   },
   "id": "a428e57dfa91877"
  },
  {
   "cell_type": "code",
   "outputs": [
    {
     "name": "stdout",
     "output_type": "stream",
     "text": [
      "False\n",
      "True\n"
     ]
    }
   ],
   "source": [
    "def DetectCapitalWord(str):\n",
    "    for charTemp in str:\n",
    "        if (not charTemp.isupper()):\n",
    "            return False\n",
    "    return True\n",
    "\n",
    "print(DetectCapitalWord('Google'))\n",
    "print(DetectCapitalWord('USA'))"
   ],
   "metadata": {
    "collapsed": false,
    "ExecuteTime": {
     "end_time": "2024-04-24T08:00:09.304707Z",
     "start_time": "2024-04-24T08:00:09.301067Z"
    }
   },
   "id": "16e842784ae6ae9c",
   "execution_count": 10
  },
  {
   "cell_type": "markdown",
   "source": [
    "## 448. Find All Numbers Disappeared in an Array"
   ],
   "metadata": {
    "collapsed": false
   },
   "id": "21e86dd0dc2c7206"
  },
  {
   "cell_type": "markdown",
   "source": [
    "Easy\n",
    "Topics\n",
    "Companies\n",
    "Hint\n",
    "\n",
    "Given an array nums of n integers where nums[i] is in the range [1, n], return an array of all the integers in the range [1, n] that do not appear in nums.\n",
    "\n",
    " \n",
    "\n",
    "Example 1:\n",
    "\n",
    "Input: nums = [4,3,2,7,8,2,3,1]\n",
    "Output: [5,6]\n",
    "\n",
    "Example 2:\n",
    "\n",
    "Input: nums = [1,1]\n",
    "Output: [2]\n",
    "\n",
    " \n",
    "\n",
    "Constraints:\n",
    "\n",
    "    n == nums.length\n",
    "    1 <= n <= 105\n",
    "    1 <= nums[i] <= n\n",
    "\n",
    " \n",
    "\n",
    "Follow up: Could you do it without extra space and in O(n) runtime? You may assume the returned list does not count as extra space.\n"
   ],
   "metadata": {
    "collapsed": false
   },
   "id": "4c9cdf07f25bd800"
  },
  {
   "cell_type": "code",
   "outputs": [
    {
     "name": "stdout",
     "output_type": "stream",
     "text": [
      "Input after sorting:  [1, 2, 2, 4]\n",
      "Result: [3]\n"
     ]
    }
   ],
   "source": [
    "def findNumberDissappeared(arrNum):\n",
    "    n = len(arrNum)\n",
    "    result = []\n",
    "    arrNum.sort()\n",
    "    print(\"Input after sorting: \", arrNum)\n",
    "    lastNumber = 0\n",
    "    for i in range(0, n):\n",
    "        if arrNum[i] != lastNumber and arrNum[i] - lastNumber > 1:\n",
    "            result.append(range(lastNumber + 1, arrNum[i]))\n",
    "        lastNumber = arrNum[i]\n",
    "            \n",
    "    result.append(range(arrNum[n-1] + 1, n + 1))\n",
    "    # Flatten Convert list of range to list\n",
    "    result = [number for r in result for number in r]\n",
    "    print(\"Result:\", result)\n",
    "    \n",
    "findNumberDissappeared([2, 4, 2, 1])"
   ],
   "metadata": {
    "collapsed": false,
    "ExecuteTime": {
     "end_time": "2024-04-24T18:37:37.990311Z",
     "start_time": "2024-04-24T18:37:37.983598Z"
    }
   },
   "id": "2d20f02f868c5878",
   "execution_count": 125
  },
  {
   "cell_type": "markdown",
   "source": [
    "\n",
    "\n"
   ],
   "metadata": {
    "collapsed": false
   },
   "id": "efb0a139c6cd0b7c"
  }
 ],
 "metadata": {
  "kernelspec": {
   "display_name": "Python 3",
   "language": "python",
   "name": "python3"
  },
  "language_info": {
   "codemirror_mode": {
    "name": "ipython",
    "version": 2
   },
   "file_extension": ".py",
   "mimetype": "text/x-python",
   "name": "python",
   "nbconvert_exporter": "python",
   "pygments_lexer": "ipython2",
   "version": "2.7.6"
  }
 },
 "nbformat": 4,
 "nbformat_minor": 5
}
