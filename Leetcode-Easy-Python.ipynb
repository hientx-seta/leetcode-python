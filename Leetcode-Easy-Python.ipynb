{
 "cells": [
  {
   "cell_type": "markdown",
   "source": [
    "#This is the examples of Leetcode with Python\n",
    "\n",
    "## 1. Count Capitalize characters in a string        "
   ],
   "metadata": {
    "collapsed": false
   },
   "id": "4024fdd5da09009e"
  },
  {
   "cell_type": "code",
   "execution_count": 1,
   "id": "initial_id",
   "metadata": {
    "collapsed": true,
    "ExecuteTime": {
     "end_time": "2024-04-24T07:53:40.858143Z",
     "start_time": "2024-04-24T07:53:40.848148Z"
    }
   },
   "outputs": [
    {
     "name": "stdout",
     "output_type": "stream",
     "text": [
      "Capitalize characters count: $2\n",
      "Capitalize characters count: $2\n"
     ]
    }
   ],
   "source": [
    "\n",
    "def detectCapitalUse(word):\n",
    "    \"\"\"\n",
    "    :type word: str\n",
    "    :rtype: bool\n",
    "    \"\"\"\n",
    "    count = 0\n",
    "    for c in word:\n",
    "        if c.isupper():\n",
    "            count += 1\n",
    "    \n",
    "    print(f\"Capitalize characters count: {count}\")\n",
    "                \n",
    "detectCapitalUse(\"Test Character\")\n",
    "detectCapitalUse(\"FlaG\")\n"
   ]
  },
  {
   "cell_type": "markdown",
   "source": [
    "## 520. Detect Capital"
   ],
   "metadata": {
    "collapsed": false
   },
   "id": "e5830f66c14dbff4"
  },
  {
   "cell_type": "markdown",
   "source": [
    "We define the usage of capitals in a word to be right when one of the following cases holds:\n",
    "\n",
    "    All letters in this word are capitals, like \"USA\".\n",
    "    All letters in this word are not capitals, like \"leetcode\".\n",
    "    Only the first letter in this word is capital, like \"Google\".\n",
    "\n",
    "Given a string word, return true if the usage of capitals in it is right.\n",
    "\n",
    " \n",
    "\n",
    "Example 1:\n",
    "\n",
    "Input: word = \"USA\"\n",
    "Output: true\n",
    "\n",
    "Example 2:\n",
    "\n",
    "Input: word = \"FlaG\"\n",
    "Output: false\n"
   ],
   "metadata": {
    "collapsed": false
   },
   "id": "a428e57dfa91877"
  },
  {
   "cell_type": "code",
   "outputs": [
    {
     "name": "stdout",
     "output_type": "stream",
     "text": [
      "False\n",
      "True\n"
     ]
    }
   ],
   "source": [
    "def detectCapitalWord(str):\n",
    "    for charTemp in str:\n",
    "        if not charTemp.isupper():\n",
    "            return False\n",
    "    return True\n",
    "\n",
    "print(detectCapitalWord('Google'))\n",
    "print(detectCapitalWord('USA'))"
   ],
   "metadata": {
    "collapsed": false,
    "ExecuteTime": {
     "end_time": "2024-04-24T20:43:21.564884Z",
     "start_time": "2024-04-24T20:43:21.560698Z"
    }
   },
   "id": "16e842784ae6ae9c",
   "execution_count": 128
  },
  {
   "cell_type": "markdown",
   "source": [
    "## 448. Find All Numbers Disappeared in an Array"
   ],
   "metadata": {
    "collapsed": false
   },
   "id": "21e86dd0dc2c7206"
  },
  {
   "cell_type": "markdown",
   "source": [
    "Easy\n",
    "Topics\n",
    "Companies\n",
    "Hint\n",
    "\n",
    "Given an array nums of n integers where nums[i] is in the range [1, n], return an array of all the integers in the range [1, n] that do not appear in nums.\n",
    "\n",
    "\n",
    "Example 1:\n",
    "\n",
    "Input: nums = [4,3,2,7,8,2,3,1]\n",
    "Output: [5,6]\n",
    "\n",
    "Example 2:\n",
    "\n",
    "Input: nums = [1,1]\n",
    "Output: [2]\n",
    "\n",
    " \n",
    "\n",
    "Constraints:\n",
    "\n",
    "    n == nums.length\n",
    "    1 <= n <= 105\n",
    "    1 <= nums[i] <= n\n",
    "\n",
    " \n",
    "\n",
    "Follow up: Could you do it without extra space and in O(n) runtime? You may assume the returned list does not count as extra space.\n"
   ],
   "metadata": {
    "collapsed": false
   },
   "id": "4c9cdf07f25bd800"
  },
  {
   "cell_type": "code",
   "outputs": [
    {
     "name": "stdout",
     "output_type": "stream",
     "text": [
      "Input after sorting:  [1, 1, 1, 4]\n",
      "Result: [2, 3]\n"
     ]
    }
   ],
   "source": [
    "def findNumberDissappeared(arrNum):\n",
    "    n = len(arrNum)\n",
    "    result = []\n",
    "    arrNum.sort()\n",
    "    print(\"Input after sorting: \", arrNum)\n",
    "    lastNumber = 0\n",
    "    for i in range(0, n):\n",
    "        if arrNum[i] != lastNumber and arrNum[i] - lastNumber > 1:\n",
    "            result.append(range(lastNumber + 1, arrNum[i]))\n",
    "        lastNumber = arrNum[i]\n",
    "            \n",
    "    result.append(range(arrNum[n-1] + 1, n + 1))\n",
    "    # Flatten Convert list of range to list\n",
    "    result = [number for r in result for number in r]\n",
    "    print(\"Result:\", result)\n",
    "    \n",
    "findNumberDissappeared([1, 1, 4, 1])"
   ],
   "metadata": {
    "collapsed": false,
    "ExecuteTime": {
     "end_time": "2024-04-24T20:48:10.344579Z",
     "start_time": "2024-04-24T20:48:10.338816Z"
    }
   },
   "id": "2d20f02f868c5878",
   "execution_count": 132
  },
  {
   "cell_type": "markdown",
   "source": [
    "## Game Play Analysis I\n",
    "\n",
    "+--------------+---------+\n",
    "| Column Name  | Type    |\n",
    "+--------------+---------+\n",
    "| player_id    | int     |\n",
    "| device_id    | int     |\n",
    "| event_date   | date    |\n",
    "| games_played | int     |\n",
    "+--------------+---------+\n",
    "(player_id, event_date) is the primary key (combination of columns with unique values) of this table.\n",
    "This table shows the activity of players of some games.\n",
    "Each row is a record of a player who logged in and played a number of games (possibly 0) before logging out on someday using some device.\n",
    " \n",
    "Write a solution to find the first login date for each player.\n",
    "Return the result table in any order.\n",
    "\n",
    "The result format is in the following example.\n",
    "\n",
    "Example 1:\n",
    "\n",
    "Input: \n",
    "Activity table:\n",
    "+-----------+-----------+------------+--------------+\n",
    "| player_id | device_id | event_date | games_played |\n",
    "+-----------+-----------+------------+--------------+\n",
    "| 1         | 2         | 2016-03-01 | 5            |\n",
    "| 1         | 2         | 2016-05-02 | 6            |\n",
    "| 2         | 3         | 2017-06-25 | 1            |\n",
    "| 3         | 1         | 2016-03-02 | 0            |\n",
    "| 3         | 4         | 2018-07-03 | 5            |\n",
    "+-----------+-----------+------------+--------------+\n",
    "Output: \n",
    "+-----------+-------------+\n",
    "| player_id | first_login |\n",
    "+-----------+-------------+\n",
    "| 1         | 2016-03-01  |\n",
    "| 2         | 2017-06-25  |\n",
    "| 3         | 2016-03-02  |\n",
    "+-----------+-------------+\n"
   ],
   "metadata": {
    "collapsed": false
   },
   "id": "efb0a139c6cd0b7c"
  },
  {
   "cell_type": "markdown",
   "source": [],
   "metadata": {
    "collapsed": false
   },
   "id": "b95d6bde09943cea"
  },
  {
   "cell_type": "code",
   "outputs": [],
   "source": [],
   "metadata": {
    "collapsed": false
   },
   "id": "8024dbe364303458"
  }
 ],
 "metadata": {
  "kernelspec": {
   "display_name": "Python 3",
   "language": "python",
   "name": "python3"
  },
  "language_info": {
   "codemirror_mode": {
    "name": "ipython",
    "version": 2
   },
   "file_extension": ".py",
   "mimetype": "text/x-python",
   "name": "python",
   "nbconvert_exporter": "python",
   "pygments_lexer": "ipython2",
   "version": "2.7.6"
  }
 },
 "nbformat": 4,
 "nbformat_minor": 5
}
